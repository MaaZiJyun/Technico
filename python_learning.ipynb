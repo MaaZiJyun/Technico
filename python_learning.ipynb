{
 "cells": [
  {
   "cell_type": "markdown",
   "metadata": {},
   "source": [
    "# Python Learning"
   ]
  },
  {
   "cell_type": "markdown",
   "metadata": {},
   "source": [
    "## Python Variables\n",
    "\n"
   ]
  },
  {
   "cell_type": "markdown",
   "metadata": {},
   "source": [
    "### Data Types"
   ]
  },
  {
   "cell_type": "code",
   "execution_count": 8,
   "metadata": {},
   "outputs": [
    {
     "name": "stdout",
     "output_type": "stream",
     "text": [
      "<class 'int'>\n",
      "<class 'complex'>\n",
      "<class 'tuple'>\n",
      "<class 'frozenset'>\n"
     ]
    }
   ],
   "source": [
    "int_num = 42          # int\n",
    "print(type(int_num))\n",
    "\n",
    "float_num = 3.14        # float\n",
    "complex_num = 3 + 4j      # complex\n",
    "print(type(complex_num))\n",
    "\n",
    "text = \"text\"         # str\n",
    "list_of_num = [1, 2, 3]    # list\n",
    "coordinates = (4, 5)   # tuple\n",
    "print(type(coordinates))\n",
    "\n",
    "unique_items = {1, 2, 3}        # set\n",
    "immutable_set = frozenset({1, 2, 3})  # frozenset\n",
    "print(type(immutable_set))\n",
    "\n",
    "person = {\"name\": \"Alice\", \"age\": 25}  # dict\n",
    "\n",
    "is_active = True  # bool\n",
    "\n",
    "status = None  # NoneType"
   ]
  },
  {
   "cell_type": "markdown",
   "metadata": {},
   "source": [
    "### Calculations"
   ]
  },
  {
   "cell_type": "markdown",
   "metadata": {},
   "source": [
    "#### Integers"
   ]
  },
  {
   "cell_type": "code",
   "execution_count": 2,
   "metadata": {},
   "outputs": [
    {
     "name": "stdout",
     "output_type": "stream",
     "text": [
      "Addition: 13\n",
      "Subtraction: 7\n",
      "Multiplication: 30\n",
      "Division: 3.3333333333333335\n",
      "Floor Division: 3\n",
      "Modulus: 1\n",
      "Exponentiation: 1000\n"
     ]
    }
   ],
   "source": [
    "# Define variables\n",
    "a = 10\n",
    "b = 3\n",
    "\n",
    "# Perform operations\n",
    "print(\"Addition:\", a + b)      # 13\n",
    "print(\"Subtraction:\", a - b)   # 7\n",
    "print(\"Multiplication:\", a * b) # 30\n",
    "print(\"Division:\", a / b)       # 3.3333\n",
    "print(\"Floor Division:\", a // b) # 3\n",
    "print(\"Modulus:\", a % b)         # 1\n",
    "print(\"Exponentiation:\", a ** b) # 1000"
   ]
  },
  {
   "cell_type": "markdown",
   "metadata": {},
   "source": [
    "#### Strings"
   ]
  },
  {
   "cell_type": "code",
   "execution_count": 3,
   "metadata": {},
   "outputs": [
    {
     "name": "stdout",
     "output_type": "stream",
     "text": [
      "Concatenation: Hello World\n",
      "Repetition: HelloHelloHello\n",
      "Slice (first 3 characters): Hel\n",
      "Last character: o\n"
     ]
    }
   ],
   "source": [
    "# Define strings\n",
    "s1 = \"Hello\"\n",
    "s2 = \"World\"\n",
    "\n",
    "# Concatenate strings\n",
    "print(\"Concatenation:\", s1 + \" \" + s2) # \"Hello World\"\n",
    "\n",
    "# String Repetition\n",
    "print(\"Repetition:\", s1 * 3)  # \"HelloHelloHello\"\n",
    "\n",
    "# Slicing a string\n",
    "print(\"Slice (first 3 characters):\", s1[:3])  # \"Hel\"\n",
    "print(\"Last character:\", s1[-1])  # \"o\""
   ]
  },
  {
   "cell_type": "markdown",
   "metadata": {},
   "source": [
    "#### List Operations"
   ]
  },
  {
   "cell_type": "code",
   "execution_count": null,
   "metadata": {},
   "outputs": [],
   "source": [
    "# Define a list\n",
    "numbers = [1, 2, 3, 4, 5]\n",
    "\n",
    "# Access elements\n",
    "print(\"First element:\", numbers[0])  # 1\n",
    "print(\"Last element:\", numbers[-1])  # 5\n",
    "\n",
    "# Add elements\n",
    "numbers.append(6)\n",
    "print(\"After appending:\", numbers)  # [1, 2, 3, 4, 5, 6]\n",
    "\n",
    "# Remove elements\n",
    "numbers.remove(3)\n",
    "print(\"After removing 3:\", numbers)  # [1, 2, 4, 5, 6]\n",
    "\n",
    "# Slicing\n",
    "print(\"Slice [1:4]:\", numbers[1:4])  # [2, 4, 5]"
   ]
  },
  {
   "cell_type": "markdown",
   "metadata": {},
   "source": [
    "#### Dictionary"
   ]
  },
  {
   "cell_type": "code",
   "execution_count": 4,
   "metadata": {},
   "outputs": [
    {
     "name": "stdout",
     "output_type": "stream",
     "text": [
      "Name: Alex\n",
      "Age: 25\n",
      "After adding a job: {'name': 'Alex', 'age': 25, 'city': 'New York', 'job': 'Engineer'}\n",
      "After updating age: {'name': 'Alex', 'age': 26, 'city': 'New York', 'job': 'Engineer'}\n",
      "After deleting city: {'name': 'Alex', 'age': 26, 'job': 'Engineer'}\n"
     ]
    }
   ],
   "source": [
    "# Define a dictionary\n",
    "person = {\n",
    "        \"name\": \"Alex\", \n",
    "        \"age\": 25, \n",
    "        \"city\": \"New York\",\n",
    "        }\n",
    "\n",
    "# Access values\n",
    "print(\"Name:\", person[\"name\"])  # \"Alice\"\n",
    "print(\"Age:\", person[\"age\"])    # 25\n",
    "\n",
    "# Add a new key-value pair\n",
    "person[\"job\"] = \"Engineer\"\n",
    "print(\"After adding a job:\", person)\n",
    "\n",
    "# Update a value\n",
    "person[\"age\"] = 26\n",
    "print(\"After updating age:\", person)\n",
    "\n",
    "# Remove a key-value pair\n",
    "del person[\"city\"]\n",
    "print(\"After deleting city:\", person)"
   ]
  },
  {
   "cell_type": "markdown",
   "metadata": {},
   "source": [
    "#### Boolean Operations"
   ]
  },
  {
   "cell_type": "code",
   "execution_count": 6,
   "metadata": {},
   "outputs": [
    {
     "name": "stdout",
     "output_type": "stream",
     "text": [
      "x > y: False\n",
      "x < y: True\n",
      "x == y: False\n",
      "x != y: True\n",
      "x > 5 and y > 15: True\n",
      "x < 5 or y > 15: True\n"
     ]
    }
   ],
   "source": [
    "# Define variables\n",
    "x = 10\n",
    "y = 20\n",
    "\n",
    "# Compare variables\n",
    "print(\"x > y:\", x > y)  # False\n",
    "print(\"x < y:\", x < y)  # True\n",
    "print(\"x == y:\", x == y)  # False\n",
    "print(\"x != y:\", x != y)  # False\n",
    "\n",
    "# Logical operations\n",
    "print(\"x > 5 and y > 15:\", x > 5 and y > 15)  # True\n",
    "print(\"x < 5 or y > 15:\", x < 5 or y > 15)   # True"
   ]
  },
  {
   "cell_type": "markdown",
   "metadata": {},
   "source": [
    "#### Set Operation"
   ]
  },
  {
   "cell_type": "code",
   "execution_count": 5,
   "metadata": {},
   "outputs": [
    {
     "name": "stdout",
     "output_type": "stream",
     "text": [
      "Union: {1, 2, 3, 4, 5}\n",
      "Intersection: {3}\n",
      "Difference: {1, 2}\n"
     ]
    }
   ],
   "source": [
    "# Define sets\n",
    "set1 = {1, 2, 3}\n",
    "set2 = {3, 4, 5}\n",
    "\n",
    "# Union\n",
    "print(\"Union:\", set1.union(set2))  # {1, 2, 3, 4, 5}\n",
    "\n",
    "# Intersection\n",
    "print(\"Intersection:\", set1.intersection(set2))  # {3}\n",
    "\n",
    "# Difference\n",
    "print(\"Difference:\", set1.difference(set2))  # {1, 2}"
   ]
  },
  {
   "cell_type": "markdown",
   "metadata": {},
   "source": [
    "#### Python Casting"
   ]
  },
  {
   "cell_type": "code",
   "execution_count": 10,
   "metadata": {},
   "outputs": [
    {
     "name": "stdout",
     "output_type": "stream",
     "text": [
      "String to Integer: 42, Type: <class 'int'>\n",
      "String to Float: 42.0, Type: <class 'float'>\n",
      "Integer to String: 42, Type: <class 'str'>\n",
      "Non-empty String to Boolean: True\n",
      "[4, 5, 6]\n",
      "(1, 2, 3)\n",
      "{1, 2, 3}\n",
      "['a', 'b', 'c']\n",
      "(1, 2, 3)\n"
     ]
    }
   ],
   "source": [
    "# Casting to int\n",
    "num_str = \"42\"\n",
    "num_int = int(num_str)\n",
    "print(f\"String to Integer: {num_int}, Type: {type(num_int)}\") \n",
    "\n",
    "# Casting to float\n",
    "num_float = float(num_str)\n",
    "print(f\"String to Float: {num_float}, Type: {type(num_float)}\") \n",
    "\n",
    "# Casting to string\n",
    "num_str = str(num_int)\n",
    "print(f\"Integer to String: {num_str}, Type: {type(num_str)}\")\n",
    "\n",
    "# String to Boolean\n",
    "print(f\"Non-empty String to Boolean: {bool(num_str)}\")\n",
    "\n",
    "my_list = [1, 2, 3]\n",
    "my_tuple = (4, 5, 6)\n",
    "my_set = {7, 8, 9}\n",
    "\n",
    "# Conversions\n",
    "print(list(my_tuple))  # [4, 5, 6]\n",
    "print(tuple(my_list))  # (1, 2, 3)\n",
    "print(set(my_list))    # {1, 2, 3}\n",
    "\n",
    "my_dict = {\"a\": 1, \"b\": 2, \"c\": 3}\n",
    "\n",
    "# Convert keys to list\n",
    "keys_list = list(my_dict.keys())\n",
    "print(keys_list)  # ['a', 'b', 'c']\n",
    "\n",
    "# Convert values to tuple\n",
    "values_tuple = tuple(my_dict.values())\n",
    "print(values_tuple) "
   ]
  },
  {
   "cell_type": "markdown",
   "metadata": {},
   "source": [
    "## Python Comments and Print"
   ]
  },
  {
   "cell_type": "code",
   "execution_count": 7,
   "metadata": {},
   "outputs": [
    {
     "name": "stdout",
     "output_type": "stream",
     "text": [
      "Hello, World!\n",
      "My name is Alex and I am 26 years old.\n",
      "My name is Alex and I am 26 years old.\n",
      "10 multiplied by 3 is 30\n"
     ]
    }
   ],
   "source": [
    "# This is a comment\n",
    "\"\"\"\n",
    "This is a comment\n",
    "written in\n",
    "more than just one line\n",
    "\"\"\"\n",
    "print(\"Hello, World!\")\n",
    "\n",
    "name = person['name']\n",
    "age = person['age']\n",
    "\n",
    "# Using .format()\n",
    "print(\"My name is {} and I am {} years old.\".format(name, age))\n",
    "\n",
    "# Using % formatting\n",
    "print(\"My name is %s and I am %d years old.\" % (name, age))\n",
    "\n",
    "\n",
    "print(f\"{a} multiplied by {b} is {a * b}\") \n"
   ]
  },
  {
   "cell_type": "markdown",
   "metadata": {},
   "source": [
    "## Python Conditions and If statements"
   ]
  },
  {
   "cell_type": "code",
   "execution_count": 11,
   "metadata": {},
   "outputs": [
    {
     "name": "stdout",
     "output_type": "stream",
     "text": [
      "a is greater than b\n"
     ]
    }
   ],
   "source": [
    "a = 200\n",
    "b = 33\n",
    "if b > a:\n",
    "  print(\"b is greater than a\")\n",
    "elif a == b:\n",
    "  print(\"a and b are equal\")\n",
    "else:\n",
    "  print(\"a is greater than b\")"
   ]
  },
  {
   "cell_type": "markdown",
   "metadata": {},
   "source": [
    "## Loops"
   ]
  },
  {
   "cell_type": "markdown",
   "metadata": {},
   "source": [
    "### While"
   ]
  },
  {
   "cell_type": "code",
   "execution_count": 12,
   "metadata": {},
   "outputs": [
    {
     "name": "stdout",
     "output_type": "stream",
     "text": [
      "1\n",
      "2\n",
      "3\n",
      "4\n",
      "5\n"
     ]
    }
   ],
   "source": [
    "i = 1\n",
    "while i < 6:\n",
    "  print(i)\n",
    "  i += 1"
   ]
  },
  {
   "cell_type": "markdown",
   "metadata": {},
   "source": [
    "### For"
   ]
  },
  {
   "cell_type": "code",
   "execution_count": 13,
   "metadata": {},
   "outputs": [
    {
     "name": "stdout",
     "output_type": "stream",
     "text": [
      "apple\n",
      "banana\n",
      "2\n",
      "3\n",
      "4\n",
      "5\n"
     ]
    }
   ],
   "source": [
    "fruits = [\"apple\", \"banana\", \"cherry\"]\n",
    "for x in fruits:\n",
    "  print(x)\n",
    "  if x == 'apple':\n",
    "    continue\n",
    "  if x == \"banana\":\n",
    "    break\n",
    "\n",
    "for x in range(2, 6):\n",
    "  print(x)"
   ]
  },
  {
   "cell_type": "markdown",
   "metadata": {},
   "source": [
    "## Function"
   ]
  },
  {
   "cell_type": "markdown",
   "metadata": {},
   "source": [
    "### Normal Function"
   ]
  },
  {
   "cell_type": "code",
   "execution_count": null,
   "metadata": {},
   "outputs": [],
   "source": [
    "def myfunc():\n",
    "  x = 300\n",
    "  def myinnerfunc():\n",
    "    print(x)\n",
    "  myinnerfunc()\n",
    "\n",
    "myfunc()"
   ]
  },
  {
   "cell_type": "markdown",
   "metadata": {},
   "source": [
    "### Small Function"
   ]
  },
  {
   "cell_type": "code",
   "execution_count": 14,
   "metadata": {},
   "outputs": [
    {
     "name": "stdout",
     "output_type": "stream",
     "text": [
      "15\n"
     ]
    }
   ],
   "source": [
    "x = lambda a : a + 10\n",
    "print(x(5))"
   ]
  },
  {
   "cell_type": "markdown",
   "metadata": {},
   "source": [
    "## Modules"
   ]
  },
  {
   "cell_type": "markdown",
   "metadata": {},
   "source": [
    "To create a module just save the code you want in a file with the file extension .py:\\\n",
    "Save this code in a file named `module.py`"
   ]
  },
  {
   "cell_type": "code",
   "execution_count": null,
   "metadata": {},
   "outputs": [],
   "source": [
    "def greeting(name):\n",
    "  print(\"Hello, \" + name)"
   ]
  },
  {
   "cell_type": "markdown",
   "metadata": {},
   "source": [
    "Now we can use the module we just created, by using the import statement:"
   ]
  },
  {
   "cell_type": "code",
   "execution_count": null,
   "metadata": {},
   "outputs": [],
   "source": [
    "import module\n",
    "\n",
    "module.greeting(\"Jonathan\")"
   ]
  },
  {
   "cell_type": "markdown",
   "metadata": {},
   "source": [
    "## Math"
   ]
  },
  {
   "cell_type": "code",
   "execution_count": null,
   "metadata": {},
   "outputs": [],
   "source": [
    "import math\n",
    "\n",
    "# Get minimum\n",
    "output = min(5, 10, 25)\n",
    "print(output)\n",
    "\n",
    "# Get maximum\n",
    "output = max(5, 10, 25)\n",
    "print(output)\n",
    "\n",
    "# Get the absolute (positive) value\n",
    "output = abs(-7.25)\n",
    "print(output)\n",
    "\n",
    "# Get the value of 4 to the power of 3 (same as 4 * 4 * 4)\n",
    "output = pow(4, 3)\n",
    "print(output)\n",
    "\n",
    "# returns the square root of a number\n",
    "output = math.sqrt(64)\n",
    "print(output)\n",
    "\n",
    "# rounds a number upwards to its nearest integer\n",
    "output = math.ceil(1.4)\n",
    "print(output)\n",
    "\n",
    "output = math.floor(1.4)\n",
    "print(output)"
   ]
  },
  {
   "cell_type": "markdown",
   "metadata": {},
   "source": [
    "## JSON"
   ]
  },
  {
   "cell_type": "code",
   "execution_count": 16,
   "metadata": {},
   "outputs": [
    {
     "name": "stdout",
     "output_type": "stream",
     "text": [
      "30\n",
      "{\"name\": \"John\", \"age\": 30, \"city\": \"New York\"}\n"
     ]
    }
   ],
   "source": [
    "import json\n",
    "\n",
    "# some JSON:\n",
    "json_string =  '{ \"name\":\"John\", \"age\":30, \"city\":\"New York\"}'\n",
    "\n",
    "# parse x:\n",
    "json_dict = json.loads(x)\n",
    "\n",
    "# the result is a Python dictionary:\n",
    "print(json_dict[\"age\"])\n",
    "\n",
    "# a Python object (dict):\n",
    "dict = {\n",
    "  \"name\": \"John\",\n",
    "  \"age\": 30,\n",
    "  \"city\": \"New York\"\n",
    "}\n",
    "\n",
    "# convert into JSON:\n",
    "json_string = json.dumps(dict)\n",
    "\n",
    "# the result is a JSON string:\n",
    "print(json_string)"
   ]
  }
 ],
 "metadata": {
  "kernelspec": {
   "display_name": "Python 3",
   "language": "python",
   "name": "python3"
  },
  "language_info": {
   "codemirror_mode": {
    "name": "ipython",
    "version": 3
   },
   "file_extension": ".py",
   "mimetype": "text/x-python",
   "name": "python",
   "nbconvert_exporter": "python",
   "pygments_lexer": "ipython3",
   "version": "3.12.3"
  }
 },
 "nbformat": 4,
 "nbformat_minor": 2
}
